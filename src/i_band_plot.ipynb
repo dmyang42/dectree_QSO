{
 "cells": [
  {
   "cell_type": "code",
   "execution_count": 1,
   "metadata": {},
   "outputs": [],
   "source": [
    "from data_organize import read_ID_file\n",
    "import matplotlib.pyplot as plt"
   ]
  },
  {
   "cell_type": "code",
   "execution_count": 2,
   "metadata": {},
   "outputs": [],
   "source": [
    "from data_organize import read_ID_file\n",
    "import matplotlib.pyplot as plt"
   ]
  },
  {
   "cell_type": "code",
   "execution_count": 6,
   "metadata": {},
   "outputs": [],
   "source": [
    "qso_spec = read_ID_file('./data/ID_spec_QSO')\n",
    "star_spec = read_ID_file('./data/ID_spec_star')"
   ]
  },
  {
   "cell_type": "code",
   "execution_count": 3,
   "metadata": {},
   "outputs": [],
   "source": [
    "with open('./result/mode_4_predict') as f:\n",
    "    lines = f.readlines()\n",
    "    qso_predict, star_predict = [], []\n",
    "    for line in lines:\n",
    "        line = line.split()\n",
    "        if int(line[1]) == 0:\n",
    "            star_predict.append(int(float(line[0])))\n",
    "        else:\n",
    "            qso_predict.append(int(float(line[0])))"
   ]
  },
  {
   "cell_type": "code",
   "execution_count": 4,
   "metadata": {},
   "outputs": [],
   "source": [
    "def read_i_band(ID):\n",
    "    with open('./data/stripe82candidateVar_v1.1.dat') as f:\n",
    "        lines = f.readlines()\n",
    "        i_band = []\n",
    "        for line in lines[1:]:\n",
    "            line = line.split()\n",
    "            if int(float(line[0])) in ID: \n",
    "                i_band.append(float(line[4])-float(line[7]))\n",
    "        return i_band"
   ]
  },
  {
   "cell_type": "code",
   "execution_count": 7,
   "metadata": {},
   "outputs": [],
   "source": [
    "qso_spec_i_band = read_i_band(qso_spec)\n",
    "qso_predict_i_band = read_i_band(qso_predict)\n",
    "star_spec_i_band = read_i_band(star_spec)\n",
    "star_predict_i_band = read_i_band(star_predict)"
   ]
  },
  {
   "cell_type": "code",
   "execution_count": 21,
   "metadata": {},
   "outputs": [
    {
     "data": {
      "image/png": "[encoded data removed]",
      "text/plain": [
       "<Figure size 432x288 with 1 Axes>"
      ]
     },
     "metadata": {
      "needs_background": "light"
     },
     "output_type": "display_data"
    }
   ],
   "source": [
    "plt.hist(star_predict_i_band, log=True, bins=20, color='green', edgecolor='black', alpha=0.7, label='star_predict')\n",
    "plt.hist(star_spec_i_band, log=True, bins=20, color='blue', edgecolor='black', alpha=0.7, label='star_spec')\n",
    "plt.hist(qso_spec_i_band, log=True, bins=20, color='purple', edgecolor='black', alpha=0.7, label='qso_spec')\n",
    "plt.hist(qso_predict_i_band, log=True, bins=20, color='red', edgecolor='black', alpha=0.5, label='qso_predict')\n",
    "plt.legend()\n",
    "plt.ylim(5,24000)\n",
    "plt.savefig('./result/i_band_plot.png', dpi=2000)"
   ]
  }
 ],
 "metadata": {
  "kernelspec": {
   "display_name": "Python 3",
   "language": "python",
   "name": "python3"
  },
  "language_info": {
   "codemirror_mode": {
    "name": "ipython",
    "version": 3
   },
   "file_extension": ".py",
   "mimetype": "text/x-python",
   "name": "python",
   "nbconvert_exporter": "python",
   "pygments_lexer": "ipython3",
   "version": "3.7.0"
  }
 },
 "nbformat": 4,
 "nbformat_minor": 2
}
